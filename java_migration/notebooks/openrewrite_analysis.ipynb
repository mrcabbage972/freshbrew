{
 "cells": [
  {
   "cell_type": "code",
   "execution_count": 1,
   "metadata": {},
   "outputs": [
    {
     "data": {
      "text/plain": [
       "15"
      ]
     },
     "execution_count": 1,
     "metadata": {},
     "output_type": "execute_result"
    }
   ],
   "source": [
    "from tqdm import tqdm\n",
    "\n",
    "from java_migration.eval.maven_build_verifier import MavenBuildVerifier\n",
    "from java_migration.utils import REPO_ROOT\n",
    "\n",
    "DATA_PATH = REPO_ROOT / \"data\" / \"justine\" / \"workspace\"\n",
    "\n",
    "repo_dirs = [x for x in DATA_PATH.iterdir() if x.is_dir()]\n",
    "\n",
    "len(repo_dirs)"
   ]
  },
  {
   "cell_type": "code",
   "execution_count": 2,
   "metadata": {},
   "outputs": [
    {
     "name": "stderr",
     "output_type": "stream",
     "text": [
      "100%|██████████| 15/15 [02:46<00:00, 11.10s/it]\n"
     ]
    }
   ],
   "source": [
    "verifier = MavenBuildVerifier()\n",
    "\n",
    "verifier_results = [verifier.verify(repo_path) for repo_path in tqdm(repo_dirs)]"
   ]
  },
  {
   "cell_type": "code",
   "execution_count": 6,
   "metadata": {},
   "outputs": [
    {
     "data": {
      "text/plain": [
       "0"
      ]
     },
     "execution_count": 6,
     "metadata": {},
     "output_type": "execute_result"
    }
   ],
   "source": [
    "len([x for x in verifier_results if x.build_success])\n",
    "len([x for x in verifier_results if x.test_success])"
   ]
  },
  {
   "cell_type": "code",
   "execution_count": null,
   "metadata": {},
   "outputs": [],
   "source": []
  }
 ],
 "metadata": {
  "kernelspec": {
   "display_name": "java-migration-VHeC4uhc-py3.12",
   "language": "python",
   "name": "python3"
  },
  "language_info": {
   "codemirror_mode": {
    "name": "ipython",
    "version": 3
   },
   "file_extension": ".py",
   "mimetype": "text/x-python",
   "name": "python",
   "nbconvert_exporter": "python",
   "pygments_lexer": "ipython3",
   "version": "3.12.3"
  }
 },
 "nbformat": 4,
 "nbformat_minor": 2
}
