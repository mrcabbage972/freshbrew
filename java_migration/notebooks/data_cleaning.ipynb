{
 "cells": [
  {
   "cell_type": "code",
   "execution_count": 46,
   "metadata": {},
   "outputs": [],
   "source": [
    "import pandas as pd\n",
    "import yaml"
   ]
  },
  {
   "cell_type": "code",
   "execution_count": 47,
   "metadata": {},
   "outputs": [
    {
     "data": {
      "text/html": [
       "<div>\n",
       "<style scoped>\n",
       "    .dataframe tbody tr th:only-of-type {\n",
       "        vertical-align: middle;\n",
       "    }\n",
       "\n",
       "    .dataframe tbody tr th {\n",
       "        vertical-align: top;\n",
       "    }\n",
       "\n",
       "    .dataframe thead th {\n",
       "        text-align: right;\n",
       "    }\n",
       "</style>\n",
       "<table border=\"1\" class=\"dataframe\">\n",
       "  <thead>\n",
       "    <tr style=\"text-align: right;\">\n",
       "      <th></th>\n",
       "      <th>repo_name</th>\n",
       "      <th>build_tool</th>\n",
       "      <th>number_of_external_dependencies</th>\n",
       "      <th>number_of_java_files</th>\n",
       "      <th>number_of_lines_of_code</th>\n",
       "      <th>number_of_modules</th>\n",
       "      <th>number_of_unit_tests</th>\n",
       "    </tr>\n",
       "  </thead>\n",
       "  <tbody>\n",
       "    <tr>\n",
       "      <th>0</th>\n",
       "      <td>Cetsoft-imcache.yaml</td>\n",
       "      <td>maven</td>\n",
       "      <td>39</td>\n",
       "      <td>120</td>\n",
       "      <td>10039</td>\n",
       "      <td>7</td>\n",
       "      <td>235</td>\n",
       "    </tr>\n",
       "    <tr>\n",
       "      <th>1</th>\n",
       "      <td>AmadeusITGroup-sonar-stash.yaml</td>\n",
       "      <td>maven</td>\n",
       "      <td>30</td>\n",
       "      <td>29</td>\n",
       "      <td>2817</td>\n",
       "      <td>1</td>\n",
       "      <td>174</td>\n",
       "    </tr>\n",
       "    <tr>\n",
       "      <th>2</th>\n",
       "      <td>BottegaIT-ddd-leaven-v2.yaml</td>\n",
       "      <td>maven</td>\n",
       "      <td>34</td>\n",
       "      <td>161</td>\n",
       "      <td>7744</td>\n",
       "      <td>1</td>\n",
       "      <td>4</td>\n",
       "    </tr>\n",
       "    <tr>\n",
       "      <th>3</th>\n",
       "      <td>Devskiller-friendly-id.yaml</td>\n",
       "      <td>maven</td>\n",
       "      <td>19</td>\n",
       "      <td>40</td>\n",
       "      <td>1075</td>\n",
       "      <td>5</td>\n",
       "      <td>33</td>\n",
       "    </tr>\n",
       "    <tr>\n",
       "      <th>4</th>\n",
       "      <td>BottegaIT-ddd-cqrs-sample.yaml</td>\n",
       "      <td>maven</td>\n",
       "      <td>38</td>\n",
       "      <td>147</td>\n",
       "      <td>7707</td>\n",
       "      <td>1</td>\n",
       "      <td>24</td>\n",
       "    </tr>\n",
       "  </tbody>\n",
       "</table>\n",
       "</div>"
      ],
      "text/plain": [
       "                         repo_name build_tool  \\\n",
       "0             Cetsoft-imcache.yaml      maven   \n",
       "1  AmadeusITGroup-sonar-stash.yaml      maven   \n",
       "2     BottegaIT-ddd-leaven-v2.yaml      maven   \n",
       "3      Devskiller-friendly-id.yaml      maven   \n",
       "4   BottegaIT-ddd-cqrs-sample.yaml      maven   \n",
       "\n",
       "   number_of_external_dependencies  number_of_java_files  \\\n",
       "0                               39                   120   \n",
       "1                               30                    29   \n",
       "2                               34                   161   \n",
       "3                               19                    40   \n",
       "4                               38                   147   \n",
       "\n",
       "   number_of_lines_of_code  number_of_modules  number_of_unit_tests  \n",
       "0                    10039                  7                   235  \n",
       "1                     2817                  1                   174  \n",
       "2                     7744                  1                     4  \n",
       "3                     1075                  5                    33  \n",
       "4                     7707                  1                    24  "
      ]
     },
     "execution_count": 47,
     "metadata": {},
     "output_type": "execute_result"
    }
   ],
   "source": [
    "repo_features = pd.read_csv('../data/new_repo_build_data/repo_features.csv')\n",
    "repo_features.head()"
   ]
  },
  {
   "cell_type": "code",
   "execution_count": 48,
   "metadata": {},
   "outputs": [],
   "source": [
    "with open(\"../data/new_repo_build_data/jdk8_build_results_30k.yaml\", \"r\") as file:\n",
    "    build_results = yaml.safe_load(file)"
   ]
  },
  {
   "cell_type": "code",
   "execution_count": 59,
   "metadata": {},
   "outputs": [],
   "source": [
    "with open(\"../data/migration_datasets/full_dataset.yaml\", \"r\") as file:\n",
    "    full_dataset = yaml.safe_load(file)"
   ]
  },
  {
   "cell_type": "code",
   "execution_count": 60,
   "metadata": {},
   "outputs": [
    {
     "data": {
      "text/plain": [
       "{'build': {'build_success': True, 'errors': [], 'modules': {}, 'warnings': []},\n",
       " 'repo_name': '0x727_DropLabTools',\n",
       " 'test': {'build_success': True, 'errors': [], 'modules': {}, 'warnings': []}}"
      ]
     },
     "execution_count": 60,
     "metadata": {},
     "output_type": "execute_result"
    }
   ],
   "source": [
    "build_results[1]"
   ]
  },
  {
   "cell_type": "code",
   "execution_count": 61,
   "metadata": {},
   "outputs": [
    {
     "data": {
      "text/plain": [
       "{'commit': 'cc89b036d90403a9c6c98dd13800811a33a48962',\n",
       " 'repo_name': 'magro/kryo-serializers'}"
      ]
     },
     "execution_count": 61,
     "metadata": {},
     "output_type": "execute_result"
    }
   ],
   "source": [
    "full_dataset[1]"
   ]
  },
  {
   "cell_type": "code",
   "execution_count": 62,
   "metadata": {},
   "outputs": [
    {
     "name": "stdout",
     "output_type": "stream",
     "text": [
      "{'tests_failed': 0, 'tests_run': 28, 'tests_skipped': 0, 'tests_successful': 28}\n",
      "{'tests_failed': 0, 'tests_run': 381, 'tests_skipped': 0, 'tests_successful': 381}\n",
      "{'tests_failed': 0, 'tests_run': 29, 'tests_skipped': 0, 'tests_successful': 29}\n"
     ]
    }
   ],
   "source": [
    "for item in full_dataset:\n",
    "    if not item.get('repo_name'):\n",
    "        print(item)\n",
    "    repo_name = item['repo_name'].replace('/', '_')\n",
    "    # search the test counts information from the jdk8 build results\n",
    "    for build_result in build_results:\n",
    "        if build_result['repo_name'].lower() == repo_name.lower():\n",
    "            # obtain the test counts\n",
    "            test_item= build_result.get('test')\n",
    "            if test_item:\n",
    "                test_results = test_item.get('tests')\n",
    "                if test_results:\n",
    "                    print(test_results)\n",
    "                    item['test_count'] = test_results\n",
    "    # search for repo features information from the repo_features.csv\n",
    "    for index, row in repo_features.iterrows():\n",
    "        \n",
    "        if row['repo_name'].split('.')[0].lower() == item['repo_name'].replace('/', '-').lower():\n",
    "            repo_item = { 'build_tool': row['build_tool'], \n",
    "                          'num_external_dependencies': row['number_of_external_dependencies'],\n",
    "                         'num_java_files': row['number_of_java_files'],\n",
    "                         'lines_of_code': row['number_of_lines_of_code'],\n",
    "                         'num_modules': row['number_of_modules'],\n",
    "                         'num_unit_tests': row['number_of_unit_tests'],\n",
    "                         }\n",
    "            item['repo_features'] = repo_item\n"
   ]
  },
  {
   "cell_type": "code",
   "execution_count": 63,
   "metadata": {},
   "outputs": [],
   "source": [
    "with open('../data/migration_datasets/full_dataset_modified.yaml', 'w') as file:\n",
    "    yaml.dump(full_dataset, file, default_flow_style=False)"
   ]
  },
  {
   "cell_type": "code",
   "execution_count": 43,
   "metadata": {},
   "outputs": [
    {
     "data": {
      "text/plain": [
       "284"
      ]
     },
     "execution_count": 43,
     "metadata": {},
     "output_type": "execute_result"
    }
   ],
   "source": [
    "len(full_dataset)"
   ]
  },
  {
   "cell_type": "code",
   "execution_count": 44,
   "metadata": {},
   "outputs": [
    {
     "data": {
      "text/plain": [
       "(284, 7)"
      ]
     },
     "execution_count": 44,
     "metadata": {},
     "output_type": "execute_result"
    }
   ],
   "source": [
    "repo_features.shape"
   ]
  },
  {
   "cell_type": "code",
   "execution_count": null,
   "metadata": {},
   "outputs": [],
   "source": []
  }
 ],
 "metadata": {
  "kernelspec": {
   "display_name": ".venv",
   "language": "python",
   "name": "python3"
  },
  "language_info": {
   "codemirror_mode": {
    "name": "ipython",
    "version": 3
   },
   "file_extension": ".py",
   "mimetype": "text/x-python",
   "name": "python",
   "nbconvert_exporter": "python",
   "pygments_lexer": "ipython3",
   "version": "3.12.11"
  }
 },
 "nbformat": 4,
 "nbformat_minor": 2
}
