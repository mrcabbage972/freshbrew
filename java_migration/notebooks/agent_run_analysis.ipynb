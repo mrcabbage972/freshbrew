{
 "cells": [
  {
   "cell_type": "code",
   "execution_count": 65,
   "metadata": {},
   "outputs": [],
   "source": [
    "import pandas as pd\n",
    "from java_migration.eval.smol_log_parser import parse_log\n",
    "from pathlib import Path\n",
    "import numpy as np\n",
    "from java_migration.eval.utils import recover_safe_repo_name\n",
    "import yaml\n",
    "import pandas as pd\n",
    "import seaborn as sns\n",
    "\n",
    "from collections.abc import MutableMapping\n",
    "\n",
    "\n",
    "def flatten(dictionary, parent_key=\"\", separator=\"_\"):\n",
    "    items = []\n",
    "    for key, value in dictionary.items():\n",
    "        new_key = parent_key + separator + key if parent_key else key\n",
    "        if isinstance(value, MutableMapping):\n",
    "            items.extend(flatten(value, new_key, separator=separator).items())\n",
    "        else:\n",
    "            items.append((new_key, value))\n",
    "    return dict(items)"
   ]
  },
  {
   "cell_type": "code",
   "execution_count": 27,
   "metadata": {},
   "outputs": [
    {
     "data": {
      "text/plain": [
       "[np.float64(41.010000000000005),\n",
       " np.float64(98.6),\n",
       " np.float64(113.87),\n",
       " np.float64(41.120000000000005),\n",
       " np.float64(307.15000000000003),\n",
       " np.float64(158.61999999999998),\n",
       " np.float64(278.40999999999997),\n",
       " np.float64(262.92),\n",
       " np.float64(57.01),\n",
       " np.float64(317.76),\n",
       " np.float64(62.449999999999996),\n",
       " np.float64(49.230000000000004),\n",
       " np.float64(483.93),\n",
       " np.float64(98.78999999999999)]"
      ]
     },
     "execution_count": 27,
     "metadata": {},
     "output_type": "execute_result"
    }
   ],
   "source": [
    "duration = [np.sum([y.meta.duration for y in x.steps]) for x in agent_logs]"
   ]
  },
  {
   "cell_type": "code",
   "execution_count": 46,
   "metadata": {},
   "outputs": [],
   "source": [
    "def get_experiment_data(experiment_path):\n",
    "    exp_dirs = [Path(f.path) for f in os.scandir(experiment_path / \"job_results\") if f.is_dir()]\n",
    "    repo_names = [recover_safe_repo_name(f.name) for f in exp_dirs]\n",
    "\n",
    "    repo_dict = {repo_name: {} for repo_name in repo_names}\n",
    "\n",
    "    for exp_dir, repo_name in zip(exp_dirs, repo_names):\n",
    "        if (exp_dir / \"stdout.log\").exists():\n",
    "            repo_dict[repo_name][\"agent_log\"] = parse_log(open(exp_dir / \"stdout.log\").read())\n",
    "        if (exp_dir / \"result.yaml\").exists():\n",
    "            with open(exp_dir / \"result.yaml\") as fin:\n",
    "                repo_dict[repo_name][\"build_result\"] = yaml.safe_load(fin.read())\n",
    "\n",
    "    return repo_dict\n",
    "\n",
    "\n",
    "exp_data = get_experiment_data(experiment_path)"
   ]
  },
  {
   "cell_type": "code",
   "execution_count": 62,
   "metadata": {},
   "outputs": [],
   "source": [
    "def get_experiment_features(exp_data):\n",
    "    exp_feats = []\n",
    "    for repo_name, repo_data in exp_data.items():\n",
    "        cur_feats = {\"repo_name\": repo_name}\n",
    "        if \"build_result\" in repo_data and repo_data[\"build_result\"] is not None:\n",
    "            cur_feats.update(flatten(repo_data[\"build_result\"]))\n",
    "        exp_feats.append(cur_feats)\n",
    "        if \"agent_log\" in repo_data:\n",
    "            cur_feats[\"run_duration\"] = np.sum([y.meta.duration for y in repo_data[\"agent_log\"].steps])\n",
    "            cur_feats[\"input_tokens\"] = np.sum([y.meta.input_tokens for y in repo_data[\"agent_log\"].steps])\n",
    "            cur_feats[\"output_tokens\"] = np.sum([y.meta.input_tokens for y in repo_data[\"agent_log\"].steps])\n",
    "            cur_feats[\"num_steps\"] = len(repo_data[\"agent_log\"].steps)\n",
    "    return exp_feats\n",
    "\n",
    "\n",
    "exp_features = get_experiment_features(exp_data)\n",
    "df = pd.DataFrame(exp_features)"
   ]
  },
  {
   "cell_type": "code",
   "execution_count": 66,
   "metadata": {},
   "outputs": [
    {
     "data": {
      "text/plain": [
       "<Axes: >"
      ]
     },
     "execution_count": 66,
     "metadata": {},
     "output_type": "execute_result"
    },
    {
     "data": {
      "image/png": "[encoded data removed]",
      "text/plain": [
       "<Figure size 640x480 with 1 Axes>"
      ]
     },
     "metadata": {},
     "output_type": "display_data"
    }
   ],
   "source": [
    "df.input_tokens.plot(kind=\"bar\")"
   ]
  },
  {
   "cell_type": "code",
   "execution_count": null,
   "metadata": {},
   "outputs": [],
   "source": []
  }
 ],
 "metadata": {
  "kernelspec": {
   "display_name": ".venv",
   "language": "python",
   "name": "python3"
  },
  "language_info": {
   "codemirror_mode": {
    "name": "ipython",
    "version": 3
   },
   "file_extension": ".py",
   "mimetype": "text/x-python",
   "name": "python",
   "nbconvert_exporter": "python",
   "pygments_lexer": "ipython3",
   "version": "3.12.4"
  }
 },
 "nbformat": 4,
 "nbformat_minor": 2
}
