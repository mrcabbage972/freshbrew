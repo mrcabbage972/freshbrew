{
 "cells": [
  {
   "cell_type": "code",
   "execution_count": 1,
   "metadata": {},
   "outputs": [],
   "source": [
    "import pandas as pd\n",
    "from java_migration.eval.smol_log_parser import parse_log\n",
    "from pathlib import Path\n",
    "import numpy as np\n",
    "from java_migration.eval.utils import recover_safe_repo_name\n",
    "import yaml\n",
    "import pandas as pd\n",
    "import seaborn as sns\n",
    "from java_migration.utils import REPO_ROOT\n",
    "import os\n",
    "from collections.abc import MutableMapping\n",
    "from java_migration.eval.maven_build_verifier import MavenBuildVerifier\n",
    "import matplotlib.pyplot as plt\n",
    "import matplotlib.cm as cm\n",
    "from java_migration.analysis.utils import get_maven_logs, MavenStatus, visualize_agent_trace, flatten, get_experiment_data"
   ]
  },
  {
   "cell_type": "code",
   "execution_count": 2,
   "metadata": {},
   "outputs": [],
   "source": [
    "experiment_path = Path(\n",
    "    # \"/Users/mayvic/Documents/git/java-migration-paper/data/experiments/2025-03-09/22-19-56-hopeful-wescoff\"\n",
    "    # \"/Users/mayvic/Documents/git/java-migration-paper/data/experiments/2025-03-11/13-55-09-condescending-galileo\"\n",
    "    #\"/Users/mayvic/Documents/git/java-migration-paper/data/experiments/2025-03-11/14-14-38-awesome-pasteur\"\n",
    "    \"/Users/mayvic/Documents/git/java-migration-paper/data/experiments/2025-03-11/15-14-25-loving-newton\"\n",
    ")\n",
    "exp_data = get_experiment_data(experiment_path)"
   ]
  },
  {
   "cell_type": "code",
   "execution_count": 7,
   "metadata": {},
   "outputs": [
    {
     "ename": "TypeError",
     "evalue": "argument of type 'NoneType' is not iterable",
     "output_type": "error",
     "traceback": [
      "\u001b[31m---------------------------------------------------------------------------\u001b[39m",
      "\u001b[31mTypeError\u001b[39m                                 Traceback (most recent call last)",
      "\u001b[36mCell\u001b[39m\u001b[36m \u001b[39m\u001b[32mIn[7]\u001b[39m\u001b[32m, line 26\u001b[39m\n\u001b[32m     21\u001b[39m             cur_feats.update(repo_data[\u001b[33m\"\u001b[39m\u001b[33mrepo_feats\u001b[39m\u001b[33m\"\u001b[39m])\n\u001b[32m     23\u001b[39m     \u001b[38;5;28;01mreturn\u001b[39;00m exp_feats\n\u001b[32m---> \u001b[39m\u001b[32m26\u001b[39m exp_features = \u001b[43mget_experiment_features\u001b[49m\u001b[43m(\u001b[49m\u001b[43mexp_data\u001b[49m\u001b[43m)\u001b[49m\n\u001b[32m     27\u001b[39m df = pd.DataFrame(exp_features)\n\u001b[32m     28\u001b[39m df\n",
      "\u001b[36mCell\u001b[39m\u001b[36m \u001b[39m\u001b[32mIn[7]\u001b[39m\u001b[32m, line 15\u001b[39m, in \u001b[36mget_experiment_features\u001b[39m\u001b[34m(exp_data)\u001b[39m\n\u001b[32m     13\u001b[39m \u001b[38;5;28;01mif\u001b[39;00m \u001b[38;5;28mlen\u001b[39m(repo_data[\u001b[33m\"\u001b[39m\u001b[33magent_log\u001b[39m\u001b[33m\"\u001b[39m].steps) > \u001b[32m1\u001b[39m:\n\u001b[32m     14\u001b[39m     \u001b[38;5;28;01mif\u001b[39;00m repo_data[\u001b[33m\"\u001b[39m\u001b[33magent_log\u001b[39m\u001b[33m\"\u001b[39m].steps[-\u001b[32m2\u001b[39m].execution_logs:                    \n\u001b[32m---> \u001b[39m\u001b[32m15\u001b[39m         cur_feats[\u001b[33m\"\u001b[39m\u001b[33mvertex_fail\u001b[39m\u001b[33m\"\u001b[39m] = \u001b[33;43m\"\u001b[39;49m\u001b[33;43mRateLimitError\u001b[39;49m\u001b[33;43m\"\u001b[39;49m\u001b[43m \u001b[49m\u001b[38;5;129;43;01min\u001b[39;49;00m\u001b[43m \u001b[49m\u001b[43mrepo_data\u001b[49m\u001b[43m[\u001b[49m\u001b[33;43m\"\u001b[39;49m\u001b[33;43magent_log\u001b[39;49m\u001b[33;43m\"\u001b[39;49m\u001b[43m]\u001b[49m\u001b[43m.\u001b[49m\u001b[43msteps\u001b[49m\u001b[43m[\u001b[49m\u001b[43m-\u001b[49m\u001b[32;43m1\u001b[39;49m\u001b[43m]\u001b[49m\u001b[43m.\u001b[49m\u001b[43mexecution_logs\u001b[49m\n\u001b[32m     16\u001b[39m     \u001b[38;5;28;01melse\u001b[39;00m:\n\u001b[32m     17\u001b[39m         cur_feats[\u001b[33m\"\u001b[39m\u001b[33mvertex_fail\u001b[39m\u001b[33m\"\u001b[39m] = \u001b[38;5;28;01mFalse\u001b[39;00m\n",
      "\u001b[31mTypeError\u001b[39m: argument of type 'NoneType' is not iterable"
     ]
    }
   ],
   "source": [
    "def get_experiment_features(exp_data):\n",
    "    exp_feats = []\n",
    "    for repo_name, repo_data in exp_data.items():\n",
    "        cur_feats = {\"repo_name\": repo_name}\n",
    "        if \"build_result\" in repo_data and repo_data[\"build_result\"] is not None:\n",
    "            cur_feats.update(flatten(repo_data[\"build_result\"]))\n",
    "        exp_feats.append(cur_feats)\n",
    "        if \"agent_log\" in repo_data:\n",
    "            cur_feats[\"run_duration\"] = np.sum([y.meta.duration for y in repo_data[\"agent_log\"].steps])\n",
    "            cur_feats[\"input_tokens\"] = np.sum([y.meta.input_tokens for y in repo_data[\"agent_log\"].steps])\n",
    "            cur_feats[\"output_tokens\"] = np.sum([y.meta.input_tokens for y in repo_data[\"agent_log\"].steps])\n",
    "            cur_feats[\"num_steps\"] = len(repo_data[\"agent_log\"].steps)\n",
    "            if len(repo_data[\"agent_log\"].steps) > 1:\n",
    "                if repo_data[\"agent_log\"].steps[-2].execution_logs:                    \n",
    "                    cur_feats[\"vertex_fail\"] = \"RateLimitError\" in repo_data[\"agent_log\"].steps[-2].execution_logs\n",
    "                else:\n",
    "                    cur_feats[\"vertex_fail\"] = False\n",
    "            else:\n",
    "                cur_feats[\"vertex_fail\"] = False\n",
    "        if \"repo_feats\" in repo_data:\n",
    "            cur_feats.update(repo_data[\"repo_feats\"])\n",
    "\n",
    "    return exp_feats\n",
    "\n",
    "\n",
    "exp_features = get_experiment_features(exp_data)\n",
    "df = pd.DataFrame(exp_features)\n",
    "df"
   ]
  },
  {
   "cell_type": "code",
   "execution_count": 8,
   "metadata": {},
   "outputs": [
    {
     "data": {
      "text/plain": [
       "0     False\n",
       "1     False\n",
       "2     False\n",
       "3     False\n",
       "4     False\n",
       "5     False\n",
       "6     False\n",
       "7     False\n",
       "8     False\n",
       "9     False\n",
       "10    False\n",
       "11    False\n",
       "12    False\n",
       "13    False\n",
       "14    False\n",
       "Name: vertex_fail, dtype: bool"
      ]
     },
     "execution_count": 8,
     "metadata": {},
     "output_type": "execute_result"
    }
   ],
   "source": [
    "#df.build_result_build_success.mean()\n",
    "df.vertex_fail"
   ]
  },
  {
   "cell_type": "code",
   "execution_count": 7,
   "metadata": {},
   "outputs": [
    {
     "data": {
      "text/plain": [
       "['EalenXie/spring-microservice-ddd',\n",
       " 'opengoofy/hippo4j',\n",
       " 'EnterpriseQualityCoding/FizzBuzzEnterpriseEdition',\n",
       " 'perwendel/spark',\n",
       " 'anjia0532/unidbg-boot-server']"
      ]
     },
     "execution_count": 7,
     "metadata": {},
     "output_type": "execute_result"
    }
   ],
   "source": [
    "df[(df.build_result_test_success == False) | (df.build_result_build_success == False)].repo_name.tolist()"
   ]
  },
  {
   "cell_type": "code",
   "execution_count": 8,
   "metadata": {},
   "outputs": [],
   "source": [
    "maven_logs = {repo_name: get_maven_logs(exp_data[repo_name]) for repo_name in exp_data}"
   ]
  },
  {
   "cell_type": "code",
   "execution_count": 9,
   "metadata": {},
   "outputs": [
    {
     "data": {
      "text/plain": [
       "[{'step': 4, 'status': <MavenStatus.GOAL_ERROR: 7>},\n",
       " {'step': 5, 'status': <MavenStatus.GOAL_ERROR: 7>},\n",
       " {'step': 9, 'status': <MavenStatus.INVALID_POM: 9>},\n",
       " {'step': 17, 'status': <MavenStatus.INVALID_POM: 9>},\n",
       " {'step': 20, 'status': <MavenStatus.INVALID_POM: 9>},\n",
       " {'step': 22, 'status': <MavenStatus.INVALID_POM: 9>},\n",
       " {'step': 24, 'status': <MavenStatus.INVALID_POM: 9>}]"
      ]
     },
     "execution_count": 9,
     "metadata": {},
     "output_type": "execute_result"
    }
   ],
   "source": [
    "repo_names = df.repo_name.tolist()\n",
    "\n",
    "maven_logs[repo_names[1]]"
   ]
  },
  {
   "cell_type": "code",
   "execution_count": 10,
   "metadata": {},
   "outputs": [
    {
     "data": {
      "text/plain": [
       "{<MavenStatus.NO_MAVEN: 0>: 0,\n",
       " <MavenStatus.COMPILE_ERROR: 1>: 4,\n",
       " <MavenStatus.TESTS_STARTED: 2>: 7,\n",
       " <MavenStatus.SUCCESS: 3>: 7,\n",
       " <MavenStatus.DEPENDENCY_ERROR: 4>: 0,\n",
       " <MavenStatus.UNKNOWN_ERROR: 5>: 0,\n",
       " <MavenStatus.UNKNOWN: 6>: 0,\n",
       " <MavenStatus.GOAL_ERROR: 7>: 6,\n",
       " <MavenStatus.PLUGIN_RESOLVE_ERROR: 8>: 0,\n",
       " <MavenStatus.INVALID_POM: 9>: 8,\n",
       " <MavenStatus.SKIPPED_TESTS: 10>: 1}"
      ]
     },
     "execution_count": 10,
     "metadata": {},
     "output_type": "execute_result"
    }
   ],
   "source": [
    "# maven_statuses_by_repo = {repo_name: set([step[\"status\"] for step in maven_logs[repo_name]]) for repo_name in maven_logs}\n",
    "# maven_statuses_by_repo\n",
    "{\n",
    "    status: len(\n",
    "        [repo_name for repo_name in maven_logs if any(status == step[\"status\"] for step in maven_logs[repo_name])]\n",
    "    )\n",
    "    for status in MavenStatus\n",
    "}"
   ]
  },
  {
   "cell_type": "code",
   "execution_count": 11,
   "metadata": {},
   "outputs": [
    {
     "data": {
      "image/png": "[encoded data removed]",
      "text/plain": [
       "<Figure size 800x400 with 1 Axes>"
      ]
     },
     "metadata": {},
     "output_type": "display_data"
    }
   ],
   "source": [
    "# print(exp_data[repo_names[12]][\"agent_log\"].steps[15].execution_logs)\n",
    "visualize_agent_trace(maven_logs[\"nydiarra/springboot-jwt\"])\n",
    "# print(repo_names[12])"
   ]
  },
  {
   "cell_type": "code",
   "execution_count": 12,
   "metadata": {},
   "outputs": [],
   "source": [
    "# print(exp_data[repo_names[1]][\"agent_log\"].steps[48].execution_logs)"
   ]
  },
  {
   "cell_type": "code",
   "execution_count": 13,
   "metadata": {},
   "outputs": [
    {
     "data": {
      "text/plain": [
       "np.float64(9238719.0)"
      ]
     },
     "execution_count": 13,
     "metadata": {},
     "output_type": "execute_result"
    }
   ],
   "source": [
    "df.input_tokens.median()\n",
    "# 974581.5 anthropic\n",
    "# 31769216.0 old\n",
    "\n",
    "# 7414753.5 / 31769216"
   ]
  },
  {
   "cell_type": "code",
   "execution_count": 14,
   "metadata": {},
   "outputs": [
    {
     "data": {
      "text/plain": [
       "np.float64(90.10000000000001)"
      ]
     },
     "execution_count": 14,
     "metadata": {},
     "output_type": "execute_result"
    }
   ],
   "source": [
    "df.run_duration.median()\n",
    "# 42.01 anthropic\n",
    "# 160.52 old"
   ]
  },
  {
   "cell_type": "code",
   "execution_count": 15,
   "metadata": {},
   "outputs": [
    {
     "data": {
      "text/plain": [
       "np.float64(26.0)"
      ]
     },
     "execution_count": 15,
     "metadata": {},
     "output_type": "execute_result"
    }
   ],
   "source": [
    "df.num_steps.median()\n",
    "# 13.0 anthropic\n",
    "# 37.0 old"
   ]
  },
  {
   "cell_type": "code",
   "execution_count": null,
   "metadata": {},
   "outputs": [],
   "source": []
  }
 ],
 "metadata": {
  "kernelspec": {
   "display_name": ".venv",
   "language": "python",
   "name": "python3"
  },
  "language_info": {
   "codemirror_mode": {
    "name": "ipython",
    "version": 3
   },
   "file_extension": ".py",
   "mimetype": "text/x-python",
   "name": "python",
   "nbconvert_exporter": "python",
   "pygments_lexer": "ipython3",
   "version": "3.12.4"
  }
 },
 "nbformat": 4,
 "nbformat_minor": 2
}
