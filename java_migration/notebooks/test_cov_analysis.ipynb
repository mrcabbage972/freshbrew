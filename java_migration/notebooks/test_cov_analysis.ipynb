{
 "cells": [
  {
   "cell_type": "code",
   "execution_count": null,
   "metadata": {},
   "outputs": [],
   "source": []
  },
  {
   "cell_type": "code",
   "execution_count": 1,
   "metadata": {},
   "outputs": [],
   "source": [
    "import pandas as pd\n",
    "import yaml\n",
    "\n",
    "from java_migration.utils import REPO_ROOT\n",
    "\n",
    "DATA_PATH = REPO_ROOT / \"data\" / \"cov_output_full\""
   ]
  },
  {
   "cell_type": "code",
   "execution_count": 2,
   "metadata": {},
   "outputs": [
    {
     "data": {
      "text/plain": [
       "210"
      ]
     },
     "execution_count": 2,
     "metadata": {},
     "output_type": "execute_result"
    }
   ],
   "source": [
    "repo_dirs = [x for x in DATA_PATH.iterdir() if x.is_dir()]\n",
    "\n",
    "repo_cov = [yaml.safe_load(open(x / \"cov.yaml\")) for x in repo_dirs]\n",
    "\n",
    "len(repo_cov)"
   ]
  },
  {
   "cell_type": "code",
   "execution_count": 3,
   "metadata": {},
   "outputs": [
    {
     "data": {
      "text/plain": [
       "<Axes: >"
      ]
     },
     "execution_count": 3,
     "metadata": {},
     "output_type": "execute_result"
    },
    {
     "data": {
      "image/png": "[encoded data removed]",
      "text/plain": [
       "<Figure size 640x480 with 1 Axes>"
      ]
     },
     "metadata": {},
     "output_type": "display_data"
    }
   ],
   "source": [
    "pd.DataFrame([x[\"LINE\"] for x in repo_cov]).percent.hist(cumulative=True, density=True)"
   ]
  },
  {
   "cell_type": "code",
   "execution_count": 4,
   "metadata": {},
   "outputs": [],
   "source": [
    "df = pd.DataFrame([x[\"LINE\"] for x in repo_cov])"
   ]
  },
  {
   "cell_type": "code",
   "execution_count": 5,
   "metadata": {},
   "outputs": [
    {
     "name": "stdout",
     "output_type": "stream",
     "text": [
      "93\n",
      "0.44285714285714284\n"
     ]
    }
   ],
   "source": [
    "print(len(df[df.percent > 50]))\n",
    "print(len(df[df.percent > 50]) / len(df))"
   ]
  },
  {
   "cell_type": "code",
   "execution_count": 6,
   "metadata": {},
   "outputs": [
    {
     "data": {
      "text/plain": [
       "73.77049180327869"
      ]
     },
     "execution_count": 6,
     "metadata": {},
     "output_type": "execute_result"
    }
   ],
   "source": [
    "450 * 20 / 122"
   ]
  },
  {
   "cell_type": "code",
   "execution_count": 7,
   "metadata": {},
   "outputs": [],
   "source": [
    "from java_migration.eval.utils import Dataset\n",
    "\n",
    "with open(Dataset.get_path(Dataset.FULL)) as fin:\n",
    "    ddict = yaml.safe_load(fin.read())"
   ]
  },
  {
   "cell_type": "code",
   "execution_count": 12,
   "metadata": {},
   "outputs": [
    {
     "name": "stdout",
     "output_type": "stream",
     "text": [
      "dataset size: 473\n",
      "repos with tests: 265\n",
      "repos with coverage: 210\n",
      "repos with 25% coverage: 125\n",
      "repos with 50% coverage: 93\n"
     ]
    }
   ],
   "source": [
    "print(f\"dataset size: {len(ddict)}\")\n",
    "print(f\"repos with tests: {len([x for x in ddict if 'test_count' in x and x['test_count']['tests_run'] > 0])}\")\n",
    "print(f\"repos with coverage: {len(df)}\")\n",
    "print(f\"repos with 25% coverage: {len(df[df.percent > 25])}\")\n",
    "print(f\"repos with 50% coverage: {len(df[df.percent > 50])}\")"
   ]
  },
  {
   "cell_type": "code",
   "execution_count": 10,
   "metadata": {},
   "outputs": [
    {
     "data": {
      "text/plain": [
       "0.7924528301886793"
      ]
     },
     "execution_count": 10,
     "metadata": {},
     "output_type": "execute_result"
    }
   ],
   "source": [
    "210 / 265"
   ]
  },
  {
   "cell_type": "code",
   "execution_count": null,
   "metadata": {},
   "outputs": [],
   "source": []
  }
 ],
 "metadata": {
  "kernelspec": {
   "display_name": "java-migration-VHeC4uhc-py3.12",
   "language": "python",
   "name": "python3"
  },
  "language_info": {
   "codemirror_mode": {
    "name": "ipython",
    "version": 3
   },
   "file_extension": ".py",
   "mimetype": "text/x-python",
   "name": "python",
   "nbconvert_exporter": "python",
   "pygments_lexer": "ipython3",
   "version": "3.12.3"
  }
 },
 "nbformat": 4,
 "nbformat_minor": 2
}
